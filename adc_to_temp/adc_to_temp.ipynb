{
 "cells": [
  {
   "cell_type": "code",
   "execution_count": 1,
   "metadata": {},
   "outputs": [],
   "source": [
    "SYSVOLT = 5\n",
    "ADC_RESOLUTION = 4095\n",
    "MAX_VOLT = 2.442\n",
    "MIN_VOLT = 0\n",
    "\n",
    "MIN_TEMP = -50\n",
    "MAX_TEMP = 50"
   ]
  },
  {
   "cell_type": "code",
   "execution_count": 2,
   "metadata": {},
   "outputs": [],
   "source": [
    "def adc_raw_value(v):\n",
    "    if(v >= MIN_VOLT and v <= MAX_VOLT):\n",
    "        ADC = (v*(ADC_RESOLUTION/SYSVOLT))\n",
    "        return round(ADC)\n",
    "    else:\n",
    "        return None"
   ]
  },
  {
   "cell_type": "code",
   "execution_count": 3,
   "metadata": {},
   "outputs": [],
   "source": [
    "def adc_to_c(x):\n",
    "    if x == 0:\n",
    "        return -50\n",
    "    else:\n",
    "        return ((adc_to_c(x-1)) + 0.05)"
   ]
  },
  {
   "cell_type": "code",
   "execution_count": 4,
   "metadata": {},
   "outputs": [],
   "source": [
    "def sensor_temp(v):\n",
    "    print(f\"SENSOR READ: {v} Volt\")\n",
    "    ADC = adc_raw_value(v)\n",
    "    if ADC is None:\n",
    "        print(\"Voltage is not within the sensor range\")\n",
    "    else:\n",
    "        print(\"**********************\\nAnalog to Digital Convertion\\n**********************\")\n",
    "        print(f\"Analog: {v}\\nDigital: {ADC}\")\n",
    "        print(\"**********************\")\n",
    "        print(f\"Temprature is: {round(adc_to_c(ADC))}\")"
   ]
  },
  {
   "cell_type": "code",
   "execution_count": 5,
   "metadata": {},
   "outputs": [
    {
     "name": "stdout",
     "output_type": "stream",
     "text": [
      "SENSOR READ: 0 Volt\n",
      "**********************\n",
      "Analog to Digital Convertion\n",
      "**********************\n",
      "Analog: 0\n",
      "Digital: 0\n",
      "**********************\n",
      "Temprature is: -50\n"
     ]
    }
   ],
   "source": [
    "sensor_temp(MIN_VOLT)"
   ]
  },
  {
   "cell_type": "code",
   "execution_count": 6,
   "metadata": {},
   "outputs": [
    {
     "name": "stdout",
     "output_type": "stream",
     "text": [
      "SENSOR READ: 2.442 Volt\n",
      "**********************\n",
      "Analog to Digital Convertion\n",
      "**********************\n",
      "Analog: 2.442\n",
      "Digital: 2000\n",
      "**********************\n",
      "Temprature is: 50\n"
     ]
    }
   ],
   "source": [
    "sensor_temp(MAX_VOLT) "
   ]
  },
  {
   "cell_type": "code",
   "execution_count": 7,
   "metadata": {},
   "outputs": [
    {
     "name": "stdout",
     "output_type": "stream",
     "text": [
      "SENSOR READ: 1.221 Volt\n",
      "**********************\n",
      "Analog to Digital Convertion\n",
      "**********************\n",
      "Analog: 1.221\n",
      "Digital: 1000\n",
      "**********************\n",
      "Temprature is: 0\n"
     ]
    }
   ],
   "source": [
    "sensor_temp(1.221) "
   ]
  },
  {
   "cell_type": "code",
   "execution_count": 8,
   "metadata": {},
   "outputs": [
    {
     "name": "stdout",
     "output_type": "stream",
     "text": [
      "SENSOR READ: 1.5 Volt\n",
      "**********************\n",
      "Analog to Digital Convertion\n",
      "**********************\n",
      "Analog: 1.5\n",
      "Digital: 1228\n",
      "**********************\n",
      "Temprature is: 11\n"
     ]
    }
   ],
   "source": [
    "sensor_temp(1.5)"
   ]
  }
 ],
 "metadata": {
  "kernelspec": {
   "display_name": "Python 3",
   "language": "python",
   "name": "python3"
  },
  "language_info": {
   "codemirror_mode": {
    "name": "ipython",
    "version": 3
   },
   "file_extension": ".py",
   "mimetype": "text/x-python",
   "name": "python",
   "nbconvert_exporter": "python",
   "pygments_lexer": "ipython3",
   "version": "3.8.5"
  }
 },
 "nbformat": 4,
 "nbformat_minor": 4
}
