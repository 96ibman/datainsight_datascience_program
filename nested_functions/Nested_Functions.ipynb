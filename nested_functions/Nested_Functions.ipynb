{
 "cells": [
  {
   "cell_type": "markdown",
   "metadata": {},
   "source": [
    "# Nested Functions"
   ]
  },
  {
   "cell_type": "markdown",
   "metadata": {},
   "source": [
    "**Let's say that we want to use a process a number of times within a function** <br>\n",
    "For example, we want a function that takes 3 numbers as parameters <br>\n",
    "and performs the same function on each of them. <br>\n",
    "One way would be to write out the computation 3 times"
   ]
  },
  {
   "cell_type": "code",
   "execution_count": 2,
   "metadata": {},
   "outputs": [
    {
     "name": "stdout",
     "output_type": "stream",
     "text": [
      "(6, 5, 6)\n"
     ]
    }
   ],
   "source": [
    "def mod2plus5(x1,x2,x3):\n",
    "    \"\"\"Returns the remainder plus 5 of three values.\"\"\"\n",
    "    new_x1 = x1 % 2 + 5 \n",
    "    new_x2 = x2 % 2 + 5 \n",
    "    new_x3 = x3 % 2 + 5 \n",
    "    \n",
    "    return(new_x1,new_x2,new_x3)\n",
    "print(mod2plus5(1,2,3))"
   ]
  },
  {
   "cell_type": "markdown",
   "metadata": {},
   "source": [
    "**However, this definitely does not scale if you need to perform the computation many times** <br>\n",
    "What we can do instead is define an inner function within our function definition,<br>\n",
    "such as we will do next, and call it where necessary.<br>\n",
    "This is called a nested function. <br>\n",
    "The syntax for the inner function is exactly the same as that for any other function."
   ]
  },
  {
   "cell_type": "code",
   "execution_count": 3,
   "metadata": {},
   "outputs": [
    {
     "name": "stdout",
     "output_type": "stream",
     "text": [
      "(6, 5, 6)\n"
     ]
    }
   ],
   "source": [
    "def mod2plus5(x1,x2,x3):\n",
    "    \"\"\"Returns the remainder plus 5 of three values.\"\"\"\n",
    "    \n",
    "    def inner(x):\n",
    "        \"\"\"Returns the remainder plus 5 of a value.\"\"\"\n",
    "        return x % 2 + 5\n",
    "    \n",
    "    return(inner(x1),inner(x2),inner(x3))\n",
    "print(mod2plus5(1,2,3))"
   ]
  },
  {
   "cell_type": "markdown",
   "metadata": {},
   "source": [
    "# Return in Nested Functions"
   ]
  },
  {
   "cell_type": "code",
   "execution_count": 4,
   "metadata": {},
   "outputs": [],
   "source": [
    "def raise_val(n):\n",
    "    \"\"\"Return the inner function.\"\"\"\n",
    "    \n",
    "    def inner(x):\n",
    "        \"\"\"Raise x to the power of n.\"\"\"\n",
    "        \n",
    "        raised = x ** n\n",
    "        return raised\n",
    "    return inner"
   ]
  },
  {
   "cell_type": "markdown",
   "metadata": {},
   "source": [
    "- Let's now look at another important use case of nested functions. \n",
    "- In this example, we define a function raise_vals, which contains an inner function called inner. \n",
    "- Now look at what raise_vals returns: it returns the inner function inner! \n",
    "- raise_vals takes an argument n and creates a function inner that returns the nth power of any number. \n",
    "- That's a bit complicated and will be clearer when we use the function raise_vals. "
   ]
  },
  {
   "cell_type": "code",
   "execution_count": 5,
   "metadata": {},
   "outputs": [
    {
     "name": "stdout",
     "output_type": "stream",
     "text": [
      "4 64\n"
     ]
    }
   ],
   "source": [
    "square = raise_val(2)\n",
    "cube = raise_val(3)\n",
    "print(square(2), cube(4))"
   ]
  },
  {
   "cell_type": "markdown",
   "metadata": {},
   "source": [
    "- Passing the number 2 to raise_vals creates a function that squares any number. \n",
    "- Similarly, passing the number 3 to raise_vals creates a function that cubes any number. \n",
    "- One interesting detail: when we call the function square, it remembers the value n=2, although the enclosing scope defined by raise_val and to which n=2 is local, has finished execution. \n",
    "- This is a subtlety referred to as a closure in Computer Science circles and shouldn't concern you too much.\n",
    "- That is why it is also called enclosing function "
   ]
  }
 ],
 "metadata": {
  "kernelspec": {
   "display_name": "Python 3",
   "language": "python",
   "name": "python3"
  },
  "language_info": {
   "codemirror_mode": {
    "name": "ipython",
    "version": 3
   },
   "file_extension": ".py",
   "mimetype": "text/x-python",
   "name": "python",
   "nbconvert_exporter": "python",
   "pygments_lexer": "ipython3",
   "version": "3.8.5"
  }
 },
 "nbformat": 4,
 "nbformat_minor": 4
}
