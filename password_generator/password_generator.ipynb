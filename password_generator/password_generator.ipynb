{
 "cells": [
  {
   "cell_type": "code",
   "execution_count": 57,
   "metadata": {},
   "outputs": [],
   "source": [
    "# Import Libraries \n",
    "\n",
    "import random\n",
    "import string "
   ]
  },
  {
   "cell_type": "code",
   "execution_count": 80,
   "metadata": {},
   "outputs": [],
   "source": [
    "def generate_password(username):\n",
    "    \"\"\"\n",
    "    A function to generate a password from a username\n",
    "    \n",
    "    Params: String: username\n",
    "    Returns: String: Random Strong Password\n",
    "    \n",
    "    Sample Input: ibrahim\n",
    "    Sample Output: 20138IbrahiM!\\\"&=\n",
    "    \n",
    "    \"\"\"\n",
    "    # Convert the first and last character to uppercase\n",
    "    password = username[0].upper() + username[1:-1].lower() + username[-1].upper()\n",
    "    \n",
    "    # Store number and symbols form string library\n",
    "    num = string.digits\n",
    "    symbols = string.punctuation\n",
    "    \n",
    "    # Generate random symbols and numbers with the length of 5\n",
    "    strtemp1 = \"\".join(random.sample(num,5))\n",
    "    strtemp2 = \"\".join(random.sample(symbols,5))\n",
    "\n",
    "    \n",
    "    # Concatenate username with the generated symbols and numbers\n",
    "    p = strtemp1 + password + strtemp2\n",
    "    \n",
    "    #Return the generated password\n",
    "    return p"
   ]
  },
  {
   "cell_type": "code",
   "execution_count": 81,
   "metadata": {},
   "outputs": [
    {
     "name": "stdout",
     "output_type": "stream",
     "text": [
      "\n",
      " Enter your user name to generate a password: ibrahim\n",
      "Your Password Is: 20138IbrahiM!\\\"&=\n"
     ]
    }
   ],
   "source": [
    "# Take the username from user\n",
    "username = str(input('\\n Enter your user name to generate a password: '))\n",
    "\n",
    "#Print the generated password\n",
    "print(\"Your Password Is: \" + generate_password(username))"
   ]
  }
 ],
 "metadata": {
  "kernelspec": {
   "display_name": "Python 3",
   "language": "python",
   "name": "python3"
  },
  "language_info": {
   "codemirror_mode": {
    "name": "ipython",
    "version": 3
   },
   "file_extension": ".py",
   "mimetype": "text/x-python",
   "name": "python",
   "nbconvert_exporter": "python",
   "pygments_lexer": "ipython3",
   "version": "3.8.5"
  }
 },
 "nbformat": 4,
 "nbformat_minor": 4
}
