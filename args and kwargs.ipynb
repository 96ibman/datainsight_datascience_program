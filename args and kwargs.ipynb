{
 "cells": [
  {
   "cell_type": "code",
   "execution_count": 3,
   "metadata": {},
   "outputs": [
    {
     "name": "stdout",
     "output_type": "stream",
     "text": [
      "Hello World\n"
     ]
    }
   ],
   "source": [
    "def greet():\n",
    "    print(\"Hello World\")\n",
    "    \n",
    "def main():\n",
    "    greet()\n",
    "    \n",
    "if __name__ == '__main__':\n",
    "    main()"
   ]
  },
  {
   "cell_type": "code",
   "execution_count": 4,
   "metadata": {},
   "outputs": [
    {
     "name": "stdout",
     "output_type": "stream",
     "text": [
      "Hello Ibrahim\n"
     ]
    }
   ],
   "source": [
    "def greet(user):\n",
    "    print(f\"Hello {user}\")\n",
    "    \n",
    "def main():\n",
    "    greet(\"Ibrahim\")\n",
    "    \n",
    "if __name__ == '__main__':\n",
    "    main()"
   ]
  },
  {
   "cell_type": "code",
   "execution_count": 5,
   "metadata": {},
   "outputs": [
    {
     "name": "stdout",
     "output_type": "stream",
     "text": [
      "The value of the first argument is:  Ibrahim\n",
      "The value of the second argument is: Nasser\n"
     ]
    }
   ],
   "source": [
    "def pos_args(first, second):\n",
    "    print(f\"The value of the first argument is:  {first}\")\n",
    "    print(f\"The value of the second argument is: {second}\")\n",
    "\n",
    "\n",
    "def main():\n",
    "    pos_args(\"Ibrahim\",\"Nasser\")\n",
    "    \n",
    "if __name__ == '__main__':\n",
    "    main()"
   ]
  },
  {
   "cell_type": "code",
   "execution_count": 6,
   "metadata": {},
   "outputs": [
    {
     "name": "stdout",
     "output_type": "stream",
     "text": [
      "The value of the first argument is:  Not Entered\n",
      "The value of the second argument is: Nasser\n"
     ]
    }
   ],
   "source": [
    "def pos_args(first = \"Not Entered\", second = \"Not Entered\"):\n",
    "    print(f\"The value of the first argument is:  {first}\")\n",
    "    print(f\"The value of the second argument is: {second}\")\n",
    "\n",
    "\n",
    "def main():\n",
    "    pos_args(second = \"Nasser\")\n",
    "    \n",
    "if __name__ == '__main__':\n",
    "    main()"
   ]
  },
  {
   "cell_type": "code",
   "execution_count": 7,
   "metadata": {},
   "outputs": [
    {
     "name": "stdout",
     "output_type": "stream",
     "text": [
      "Hello Ibrahim\n",
      "Hello Ahmed\n",
      "Hello Mohammed\n"
     ]
    }
   ],
   "source": [
    "def greet(*users):\n",
    "    for user in users:\n",
    "        print(f\"Hello {user}\")\n",
    "    \n",
    "def main():\n",
    "    greet(\"Ibrahim\", \"Ahmed\", \"Mohammed\")\n",
    "    \n",
    "if __name__ == '__main__': \n",
    "    main()"
   ]
  },
  {
   "cell_type": "code",
   "execution_count": 8,
   "metadata": {},
   "outputs": [
    {
     "name": "stdout",
     "output_type": "stream",
     "text": [
      "user => Ibrahim\n",
      "country => Palestine\n",
      "pets => ['Cat', 'Turtle']\n"
     ]
    }
   ],
   "source": [
    "def greet(**users):\n",
    "    for key, value in users.items():\n",
    "        print(f\"{key} => {value}\")\n",
    "    \n",
    "def main():\n",
    "    greet(user = \"Ibrahim\", country = \"Palestine\", pets = [\"Cat\",\"Turtle\"])\n",
    "    \n",
    "if __name__ == '__main__': \n",
    "    main() "
   ]
  }
 ],
 "metadata": {
  "kernelspec": {
   "display_name": "Python 3",
   "language": "python",
   "name": "python3"
  },
  "language_info": {
   "codemirror_mode": {
    "name": "ipython",
    "version": 3
   },
   "file_extension": ".py",
   "mimetype": "text/x-python",
   "name": "python",
   "nbconvert_exporter": "python",
   "pygments_lexer": "ipython3",
   "version": "3.8.5"
  }
 },
 "nbformat": 4,
 "nbformat_minor": 4
}
